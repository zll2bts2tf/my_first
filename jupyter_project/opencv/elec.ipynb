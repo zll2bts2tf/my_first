{
 "cells": [
  {
   "cell_type": "code",
   "execution_count": null,
   "id": "807ed7df",
   "metadata": {},
   "outputs": [],
   "source": [
    "import numpy as np\n",
    "import cv2\n",
    "import matplotlib.pyplot as plt\n",
    "%matplotlib inline \n",
    "\n",
    "img1 = cv2. imread(\"E:\\\\opencv\\\\txcl\\\\hh.png\")\n",
    "cv2.imshow(\"hh1\", img1)\n",
    "img2 = cv2. imread(\"E:\\\\opencv\\\\txcl\\\\hh.png\",0)\n",
    "cv2.imshow(\"hh2\", img2)\n",
    "cv2.waitKey(0)\n",
    "cv2.destroyAllWindows()\n",
    "img2.shape"
   ]
  },
  {
   "cell_type": "code",
   "execution_count": null,
   "id": "420890fe",
   "metadata": {},
   "outputs": [],
   "source": [
    "img = img2[0:300, 0:100]\n",
    "cv2.imshow(\"1\", img)\n",
    "cv2.waitKey(0)\n",
    "cv2.destroyAllWindows()"
   ]
  },
  {
   "cell_type": "code",
   "execution_count": null,
   "id": "55201e8c",
   "metadata": {},
   "outputs": [],
   "source": [
    "def cv_show(name, img):\n",
    "    cv2.imshow(name, img)\n",
    "    cv2.waitKey(0)\n",
    "    cv2.destroyAllWindows()"
   ]
  },
  {
   "cell_type": "code",
   "execution_count": null,
   "id": "9fc66e6a",
   "metadata": {},
   "outputs": [],
   "source": [
    "img = cv2. imread(\"E:\\\\opencv\\\\txcl\\\\hh.png\")\n",
    "b, g, r = cv2.split(img)\n",
    "b.shape\n",
    "b\n",
    "cv_show(\"b\",b)\n",
    "cv_show(\"g\",g)\n",
    "cv_show(\"r\",r)"
   ]
  },
  {
   "cell_type": "code",
   "execution_count": null,
   "id": "d2b24a00",
   "metadata": {},
   "outputs": [],
   "source": [
    "cur_img = img.copy()\n",
    "cur_img[:,:,0] = 0\n",
    "cur_img[:,:,1] = 0\n",
    "cv_show(\"R\", cur_img)"
   ]
  },
  {
   "cell_type": "code",
   "execution_count": null,
   "id": "ac6e03bd",
   "metadata": {},
   "outputs": [],
   "source": [
    "top, botten, left, right = 50, 50, 50, 50"
   ]
  },
  {
   "cell_type": "code",
   "execution_count": null,
   "id": "07b8622a",
   "metadata": {},
   "outputs": [],
   "source": [
    "reflect = cv2.copyMakeBorder(img, top, botten, left, right, borderType=cv2.BORDER_REFLECT)\n",
    "cv_show(\"reflect\",reflect)"
   ]
  },
  {
   "cell_type": "code",
   "execution_count": null,
   "id": "073f734c",
   "metadata": {},
   "outputs": [],
   "source": [
    "img = cv2.resize(img, (300, 400))\n",
    "cv_show(\"img\", img)\n",
    "img.shape"
   ]
  },
  {
   "cell_type": "code",
   "execution_count": null,
   "id": "62599492",
   "metadata": {},
   "outputs": [],
   "source": [
    "img = cv2. imread(\"E:\\\\opencv\\\\txcl\\\\hh.png\",0)\n",
    "ret, img = cv2.threshold(img, 128, 255, cv2.THRESH_BINARY)\n",
    "cv_show(\"img\", img)"
   ]
  },
  {
   "cell_type": "code",
   "execution_count": null,
   "id": "4b2e6db9",
   "metadata": {},
   "outputs": [],
   "source": [
    "kernel = np.ones((5, 5), np.uint8)\n",
    "erode = cv2.erode(img, kernel, iterations=1)\n",
    "cv_show(\"erode\", erode)"
   ]
  },
  {
   "cell_type": "code",
   "execution_count": null,
   "id": "cdc42c1c",
   "metadata": {},
   "outputs": [],
   "source": [
    "kernel = np.ones((5, 5), np.uint8)\n",
    "dilate = cv2.dilate(erode, kernel, iterations=1)\n",
    "cv_show(\"dilate\", dilate)"
   ]
  },
  {
   "cell_type": "code",
   "execution_count": null,
   "id": "c1c73e57",
   "metadata": {},
   "outputs": [],
   "source": [
    "import numpy as np\n",
    "import cv2\n",
    "import matplotlib.pyplot as plt\n",
    "img = cv2.imread(\"E:\\\\opencv\\\\txcl\\\\hh.png\",0)\n",
    "ret, img = cv2.threshold(img, 128, 255, cv2.THRESH_BINARY)\n",
    "cv_show(\"img\", img)\n",
    "kernel = np.ones((7, 7), np.uint8)\n",
    "opening = cv2.morphologyEx(img, cv2.MORPH_OPEN, kernel)\n",
    "cv_show(\"opening\", opening)\n",
    "res = np.hstack((img,opening ))\n",
    "cv_show(\"res\", res)"
   ]
  },
  {
   "cell_type": "code",
   "execution_count": null,
   "id": "94c7011f",
   "metadata": {},
   "outputs": [],
   "source": [
    "kernel = np.ones((7, 7), np.uint8)\n",
    "img = cv2.imread(\"E:\\\\opencv\\\\txcl\\\\hh.png\",0)\n",
    "ret, img = cv2.threshold(img, 128, 255, cv2.THRESH_BINARY)\n",
    "erode = cv2.erode(img, kernel, iterations=3)\n",
    "dilate = cv2.dilate(img, kernel, iterations=3)\n",
    "res = cv2.morphologyEx(img, cv2.MORPH_GRADIENT, kernel)\n",
    "cv_show(\"res\", res)"
   ]
  },
  {
   "cell_type": "code",
   "execution_count": null,
   "id": "7fe87cda",
   "metadata": {},
   "outputs": [],
   "source": [
    "img = cv2.imread(\"E:\\\\opencv\\\\txcl\\\\hh.png\",0)\n",
    "img1 = cv2.Canny(img, 150, 160)\n",
    "img2 = cv2.Canny(img, 60, 150)\n",
    "res = np.hstack((img1, img2))\n",
    "cv_show(\"res\", res)\n"
   ]
  },
  {
   "cell_type": "code",
   "execution_count": null,
   "id": "50f7ee42",
   "metadata": {},
   "outputs": [],
   "source": []
  }
 ],
 "metadata": {
  "kernelspec": {
   "display_name": "Python 3",
   "language": "python",
   "name": "python3"
  },
  "language_info": {
   "codemirror_mode": {
    "name": "ipython",
    "version": 3
   },
   "file_extension": ".py",
   "mimetype": "text/x-python",
   "name": "python",
   "nbconvert_exporter": "python",
   "pygments_lexer": "ipython3",
   "version": "3.8.8"
  }
 },
 "nbformat": 4,
 "nbformat_minor": 5
}
