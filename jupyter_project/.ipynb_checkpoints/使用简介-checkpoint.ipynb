{
 "cells": [
  {
   "cell_type": "code",
   "execution_count": 2,
   "id": "2fd07335",
   "metadata": {},
   "outputs": [],
   "source": [
    "import pandas as pd"
   ]
  },
  {
   "cell_type": "markdown",
   "id": "1996bafb",
   "metadata": {},
   "source": [
    "### 绿色是一个输入代码的模式\n",
    "* ese -> 命令模式\n",
    "## 编辑模式进入命令模式：esc\n",
    "## 命令模式进入编辑模式：enter"
   ]
  },
  {
   "cell_type": "code",
   "execution_count": 2,
   "id": "0e95d3cd",
   "metadata": {},
   "outputs": [
    {
     "data": {
      "text/plain": [
       "5050"
      ]
     },
     "execution_count": 2,
     "metadata": {},
     "output_type": "execute_result"
    }
   ],
   "source": [
    "sum(range(101))"
   ]
  },
  {
   "cell_type": "markdown",
   "id": "9d7fc2c7",
   "metadata": {},
   "source": [
    "shift+enter:运行当前代码块，且光标进入下面代码块\n",
    "ctrl+enter:运行当前代码块，并且光标停留在当前代码块\n",
    "dd:删除当前代码\n",
    "b:在下方添加一个空代码块\n",
    "a:在上方添加一个空代码块\n",
    "m:将编辑语言代码块i安城Markdown代码块\n",
    "y:将Markdown代码块变为编程语言代码块\n",
    "\n",
    "[python](http://www.baidu.com/)\n",
    "[tfboys](https://baike.baidu.com/item/TFboys/9083733)\n",
    "![图片]()\n",
    "- 第一点\n",
    "- 第二点\n",
    "1. 第一\n",
    "2. 第二\n",
    "\n",
    "$$z=x+y$$\n",
    "$$\\frac{2}{x+y}$$\n",
    "# 一级标题\n",
    "## 二级标题\n",
    "### 三级标题\n",
    "**加粗**\n",
    "\n",
    "*斜体*"
   ]
  }
 ],
 "metadata": {
  "kernelspec": {
   "display_name": "Python 3",
   "language": "python",
   "name": "python3"
  },
  "language_info": {
   "codemirror_mode": {
    "name": "ipython",
    "version": 3
   },
   "file_extension": ".py",
   "mimetype": "text/x-python",
   "name": "python",
   "nbconvert_exporter": "python",
   "pygments_lexer": "ipython3",
   "version": "3.8.8"
  }
 },
 "nbformat": 4,
 "nbformat_minor": 5
}
