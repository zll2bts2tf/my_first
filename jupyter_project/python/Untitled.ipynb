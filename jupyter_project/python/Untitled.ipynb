{
 "cells": [
  {
   "cell_type": "code",
   "execution_count": 1,
   "id": "f56c979e",
   "metadata": {},
   "outputs": [
    {
     "data": {
      "text/plain": [
       "<_io.TextIOWrapper name='test.txt' mode='w' encoding='cp936'>"
      ]
     },
     "execution_count": 1,
     "metadata": {},
     "output_type": "execute_result"
    }
   ],
   "source": [
    "open(\"test.txt\", \"w\")"
   ]
  },
  {
   "cell_type": "code",
   "execution_count": 7,
   "id": "c4777223",
   "metadata": {},
   "outputs": [],
   "source": [
    "with open(\"test.txt\", \"w\") as wf:\n",
    "    wf.write(\"Tom\\n\")\n",
    "    wf.writelines([\"ashello\\n\",\"python\\n\",\"java\\n\"])"
   ]
  },
  {
   "cell_type": "code",
   "execution_count": 8,
   "id": "4408d021",
   "metadata": {},
   "outputs": [
    {
     "name": "stdout",
     "output_type": "stream",
     "text": [
      "readline--> Tom\n",
      "\n",
      "read--> ashell\n",
      "readlines--> ['o\\n', 'python\\n', 'java\\n']\n"
     ]
    }
   ],
   "source": [
    "with open('test.txt', 'r', encoding='utf-8') as rf:\n",
    "    print('readline-->', rf.readline())\n",
    "    print('read-->', rf.read(6))\n",
    "    print('readlines-->', rf.readlines())"
   ]
  },
  {
   "cell_type": "code",
   "execution_count": 9,
   "id": "17358dd1",
   "metadata": {},
   "outputs": [
    {
     "name": "stdout",
     "output_type": "stream",
     "text": [
      "9\n",
      "b'4'\n",
      "4\n",
      "26\n",
      "b'\\r'\n"
     ]
    }
   ],
   "source": [
    "with open('test.txt', 'rb+') as f:\n",
    "    f.write(b'123456789')\n",
    "    # 文件对象位置\n",
    "    print(f.tell())\n",
    "    # 移动到文件的第四个字节\n",
    "    f.seek(3)\n",
    "    # 读取一个字节，文件对象向后移动一位\n",
    "    print(f.read(1))\n",
    "    print(f.tell())\n",
    "    # 移动到倒数第二个字节\n",
    "    f.seek(-2, 2)\n",
    "    print(f.tell())\n",
    "    print(f.read(1))"
   ]
  },
  {
   "cell_type": "code",
   "execution_count": 10,
   "id": "65f11837",
   "metadata": {},
   "outputs": [
    {
     "name": "stdout",
     "output_type": "stream",
     "text": [
      "C:\\Users\\zhanglili\\Desktop\\jupyter_project\\python\n"
     ]
    }
   ],
   "source": [
    "import os\n",
    "print(os.getcwd())"
   ]
  },
  {
   "cell_type": "code",
   "execution_count": 11,
   "id": "70128d82",
   "metadata": {},
   "outputs": [
    {
     "name": "stdout",
     "output_type": "stream",
     "text": [
      "['$RECYCLE.BIN', '.temp', '2345AvScan', 'anaconda3', 'b167f2797dc8ee8735a30c3565c98ac1', 'BaiduNetdiskDownload', 'caj', 'Config.Msi', 'c语言', 'desktop.ini', 'equip', 'HelloWorld.java', 'IdeaProjects', 'java', 'jdk', 'mnist1', 'MobileEmuMaster', 'MSOCache', 'opencv', 'pagefile.sys', 'ppt模板', 'Program Files', 'ps', 'ptyhon1', 'pycharm', 'QQMusicCache', 'qqpcmgr_docpro', 'System Volume Information', '下载', '新加卷 (D) - 快捷方式.lnk', '研究生', '简历', '考研']\n"
     ]
    }
   ],
   "source": [
    "import os\n",
    "print(os.listdir('E:/'))"
   ]
  },
  {
   "cell_type": "code",
   "execution_count": 14,
   "id": "dfe6550c",
   "metadata": {},
   "outputs": [
    {
     "name": "stdout",
     "output_type": "stream",
     "text": [
      "C:\\Users\\zhanglili\\Desktop\\jupyter_project\\python\n"
     ]
    }
   ],
   "source": [
    "import os\n",
    "# 当前路径（相对路径方式）\n",
    "print(os.path.abspath('.'))"
   ]
  },
  {
   "cell_type": "code",
   "execution_count": 16,
   "id": "cffdc9fa",
   "metadata": {},
   "outputs": [
    {
     "name": "stdout",
     "output_type": "stream",
     "text": [
      "C:\\Users\\zhanglili\\Desktop\\jupyter_project\\python\n"
     ]
    },
    {
     "ename": "FileNotFoundError",
     "evalue": "[WinError 2] 系统找不到指定的文件。: '/test'",
     "output_type": "error",
     "traceback": [
      "\u001b[1;31m---------------------------------------------------------------------------\u001b[0m",
      "\u001b[1;31mFileNotFoundError\u001b[0m                         Traceback (most recent call last)",
      "\u001b[1;32m<ipython-input-16-c6ba97e26954>\u001b[0m in \u001b[0;36m<module>\u001b[1;34m\u001b[0m\n\u001b[0;32m      1\u001b[0m \u001b[1;32mimport\u001b[0m \u001b[0mos\u001b[0m\u001b[1;33m\u001b[0m\u001b[1;33m\u001b[0m\u001b[0m\n\u001b[0;32m      2\u001b[0m \u001b[0mprint\u001b[0m\u001b[1;33m(\u001b[0m\u001b[0mos\u001b[0m\u001b[1;33m.\u001b[0m\u001b[0mgetcwd\u001b[0m\u001b[1;33m(\u001b[0m\u001b[1;33m)\u001b[0m\u001b[1;33m)\u001b[0m\u001b[1;33m\u001b[0m\u001b[1;33m\u001b[0m\u001b[0m\n\u001b[1;32m----> 3\u001b[1;33m \u001b[0mos\u001b[0m\u001b[1;33m.\u001b[0m\u001b[0mchdir\u001b[0m\u001b[1;33m(\u001b[0m\u001b[1;34m'/test'\u001b[0m\u001b[1;33m)\u001b[0m\u001b[1;33m\u001b[0m\u001b[1;33m\u001b[0m\u001b[0m\n\u001b[0m\u001b[0;32m      4\u001b[0m \u001b[0mprint\u001b[0m\u001b[1;33m(\u001b[0m\u001b[0mos\u001b[0m\u001b[1;33m.\u001b[0m\u001b[0mgetcwd\u001b[0m\u001b[1;33m(\u001b[0m\u001b[1;33m)\u001b[0m\u001b[1;33m)\u001b[0m\u001b[1;33m\u001b[0m\u001b[1;33m\u001b[0m\u001b[0m\n",
      "\u001b[1;31mFileNotFoundError\u001b[0m: [WinError 2] 系统找不到指定的文件。: '/test'"
     ]
    }
   ],
   "source": [
    "import os\n",
    "print(os.getcwd())\n",
    "os.chdir('/test')\n",
    "print(os.getcwd())"
   ]
  },
  {
   "cell_type": "code",
   "execution_count": 17,
   "id": "27654d9b",
   "metadata": {},
   "outputs": [
    {
     "name": "stdout",
     "output_type": "stream",
     "text": [
      "0\n"
     ]
    }
   ],
   "source": [
    "import os\n",
    "print(os.system('ping www.baidu.com'))"
   ]
  },
  {
   "cell_type": "code",
   "execution_count": 1,
   "id": "1cfa2bdd",
   "metadata": {},
   "outputs": [
    {
     "name": "stdout",
     "output_type": "stream",
     "text": [
      "id: ityard name: 程序之间\n"
     ]
    }
   ],
   "source": [
    "def x(id):\n",
    "    def y(name):\n",
    "        print ('id:', id, 'name:', name)\n",
    "    return y\n",
    "\n",
    "y = x('ityard')\n",
    "y('程序之间')"
   ]
  },
  {
   "cell_type": "code",
   "execution_count": 2,
   "id": "a75979bc",
   "metadata": {},
   "outputs": [
    {
     "name": "stdout",
     "output_type": "stream",
     "text": [
      "-1\n"
     ]
    }
   ],
   "source": [
    "import math\n",
    "\n",
    "x = -1.5\n",
    "print(math.ceil(x))"
   ]
  },
  {
   "cell_type": "code",
   "execution_count": 3,
   "id": "ead8b741",
   "metadata": {},
   "outputs": [
    {
     "name": "stdout",
     "output_type": "stream",
     "text": [
      "-2\n"
     ]
    }
   ],
   "source": [
    "import math\n",
    "\n",
    "x = -1.5\n",
    "print(math.floor(x))"
   ]
  },
  {
   "cell_type": "code",
   "execution_count": 4,
   "id": "db154fa7",
   "metadata": {},
   "outputs": [
    {
     "name": "stdout",
     "output_type": "stream",
     "text": [
      "1.5\n"
     ]
    }
   ],
   "source": [
    "\n",
    "import math\n",
    "\n",
    "x = -1.5\n",
    "print(math.fabs(x))"
   ]
  },
  {
   "cell_type": "code",
   "execution_count": 5,
   "id": "9eacd9c7",
   "metadata": {},
   "outputs": [
    {
     "name": "stdout",
     "output_type": "stream",
     "text": [
      "1.0\n"
     ]
    }
   ],
   "source": [
    "\n",
    "import math\n",
    "\n",
    "x = 3\n",
    "y = 2\n",
    "print(math.fmod(x, y))"
   ]
  },
  {
   "cell_type": "code",
   "execution_count": 6,
   "id": "21159be2",
   "metadata": {},
   "outputs": [
    {
     "name": "stdout",
     "output_type": "stream",
     "text": [
      "6\n"
     ]
    }
   ],
   "source": [
    "\n",
    "import math\n",
    "\n",
    "x = 3\n",
    "print(math.factorial(3))"
   ]
  },
  {
   "cell_type": "code",
   "execution_count": 7,
   "id": "51b5bea6",
   "metadata": {},
   "outputs": [
    {
     "name": "stdout",
     "output_type": "stream",
     "text": [
      "9.0\n"
     ]
    }
   ],
   "source": [
    "\n",
    "import math\n",
    "\n",
    "x = 3\n",
    "y = 2\n",
    "print(math.pow(x, y))"
   ]
  },
  {
   "cell_type": "code",
   "execution_count": 9,
   "id": "a8794931",
   "metadata": {},
   "outputs": [
    {
     "name": "stdout",
     "output_type": "stream",
     "text": [
      "15.0\n"
     ]
    }
   ],
   "source": [
    "\n",
    "import math\n",
    "\n",
    "print(math.fsum([1, 2, 3, 4, 5]))"
   ]
  },
  {
   "cell_type": "code",
   "execution_count": 10,
   "id": "c963b637",
   "metadata": {},
   "outputs": [
    {
     "name": "stdout",
     "output_type": "stream",
     "text": [
      "3\n"
     ]
    }
   ],
   "source": [
    "\n",
    "import math\n",
    "\n",
    "x = 9\n",
    "y = 6\n",
    "print(math.gcd(x, y))"
   ]
  },
  {
   "cell_type": "code",
   "execution_count": 11,
   "id": "3540f3ee",
   "metadata": {},
   "outputs": [
    {
     "name": "stdout",
     "output_type": "stream",
     "text": [
      "1\n"
     ]
    }
   ],
   "source": [
    "\n",
    "import math\n",
    "\n",
    "x = 1.1415926\n",
    "print(math.trunc(x))"
   ]
  },
  {
   "cell_type": "code",
   "execution_count": 12,
   "id": "5c2fe03c",
   "metadata": {},
   "outputs": [
    {
     "name": "stdout",
     "output_type": "stream",
     "text": [
      "7.38905609893065\n"
     ]
    }
   ],
   "source": [
    "\n",
    "import math\n",
    "\n",
    "x = 2\n",
    "print(math.exp(2))"
   ]
  },
  {
   "cell_type": "code",
   "execution_count": 13,
   "id": "20b0eaf3",
   "metadata": {},
   "outputs": [
    {
     "name": "stdout",
     "output_type": "stream",
     "text": [
      "2.302585092994046\n",
      "1.0\n"
     ]
    }
   ],
   "source": [
    "\n",
    "import math\n",
    "\n",
    "x = 10\n",
    "y = 10\n",
    "# 不指定底数\n",
    "print(math.log(x))\n",
    "# 指定底数\n",
    "print(math.log(x, y))"
   ]
  },
  {
   "cell_type": "code",
   "execution_count": 15,
   "id": "4831ea05",
   "metadata": {},
   "outputs": [
    {
     "name": "stdout",
     "output_type": "stream",
     "text": [
      "2.718281828459045\n",
      "3.141592653589793\n"
     ]
    }
   ],
   "source": [
    "\n",
    "import math\n",
    "\n",
    "# 常量 e\n",
    "print(math.e)\n",
    "# 常量 π\n",
    "print(math.pi)"
   ]
  },
  {
   "cell_type": "code",
   "execution_count": 16,
   "id": "a96b4799",
   "metadata": {},
   "outputs": [
    {
     "name": "stdout",
     "output_type": "stream",
     "text": [
      "2\n",
      "7\n"
     ]
    }
   ],
   "source": [
    "import random\n",
    "\n",
    "print(random.randrange(1, 10))\n",
    "print(random.randrange(1, 10, 2))"
   ]
  },
  {
   "cell_type": "code",
   "execution_count": 17,
   "id": "55e087da",
   "metadata": {},
   "outputs": [
    {
     "name": "stdout",
     "output_type": "stream",
     "text": [
      "2\n",
      "f\n"
     ]
    }
   ],
   "source": [
    "\n",
    "import random\n",
    "\n",
    "print(random.choice('123456'))\n",
    "print(random.choice('abcdef'))"
   ]
  },
  {
   "cell_type": "code",
   "execution_count": 18,
   "id": "e80a7572",
   "metadata": {},
   "outputs": [
    {
     "name": "stdout",
     "output_type": "stream",
     "text": [
      "[6, 4, 1, 3, 5, 2]\n"
     ]
    }
   ],
   "source": [
    "\n",
    "import random\n",
    "\n",
    "l = [1, 2, 3, 4, 5, 6]\n",
    "random.shuffle(l)\n",
    "print(l)"
   ]
  },
  {
   "cell_type": "code",
   "execution_count": 19,
   "id": "cdba7c78",
   "metadata": {},
   "outputs": [
    {
     "name": "stdout",
     "output_type": "stream",
     "text": [
      "[2, 4, 1]\n"
     ]
    }
   ],
   "source": [
    "\n",
    "import random\n",
    "\n",
    "l = [1, 2, 3, 4, 5, 6]\n",
    "print(random.sample(l, 3))"
   ]
  },
  {
   "cell_type": "code",
   "execution_count": 20,
   "id": "710b8e37",
   "metadata": {},
   "outputs": [
    {
     "name": "stdout",
     "output_type": "stream",
     "text": [
      "['E:\\\\anaconda3\\\\lib\\\\site-packages\\\\ipykernel_launcher.py', '-f', 'C:\\\\Users\\\\zhanglili\\\\AppData\\\\Roaming\\\\jupyter\\\\runtime\\\\kernel-da0cbc87-e65a-457f-844b-5301b9e95163.json']\n",
      "-f\n"
     ]
    }
   ],
   "source": [
    "\n",
    "import sys\n",
    "\n",
    "if __name__ == '__main__':\n",
    "    args = sys.argv\n",
    "    print(args)\n",
    "    print(args[1])"
   ]
  },
  {
   "cell_type": "code",
   "execution_count": 21,
   "id": "92937670",
   "metadata": {},
   "outputs": [
    {
     "data": {
      "text/plain": [
       "re.compile(r'abc', re.IGNORECASE|re.UNICODE)"
      ]
     },
     "execution_count": 21,
     "metadata": {},
     "output_type": "execute_result"
    }
   ],
   "source": [
    "\n",
    "import re\n",
    "\n",
    "re.compile(r'abc', re.I)"
   ]
  },
  {
   "cell_type": "code",
   "execution_count": 1,
   "id": "b3265ae9",
   "metadata": {},
   "outputs": [
    {
     "name": "stdout",
     "output_type": "stream",
     "text": [
      "2\n",
      "3\n",
      "4\n",
      "5\n",
      "6\n",
      "7\n",
      "8\n",
      "9\n"
     ]
    }
   ],
   "source": [
    "for i in range(2,10):\n",
    "    print(i)"
   ]
  },
  {
   "cell_type": "code",
   "execution_count": 4,
   "id": "9e508abd",
   "metadata": {},
   "outputs": [
    {
     "name": "stdout",
     "output_type": "stream",
     "text": [
      "(1000, 100)\n"
     ]
    }
   ],
   "source": [
    "import numpy as np\n",
    "x = np.random.randn(1000, 100)\n",
    "print(x.shape)"
   ]
  },
  {
   "cell_type": "code",
   "execution_count": 2,
   "id": "04908a59",
   "metadata": {},
   "outputs": [
    {
     "name": "stdout",
     "output_type": "stream",
     "text": [
      "<class 'list'>\n",
      "[{\"a\": 1, \"b\": 2, \"c\": 3, \"d\": 4, \"e\": 5}]\n"
     ]
    }
   ],
   "source": [
    "import json\n",
    "\n",
    "data = [ { 'a' : 1, 'b' : 2, 'c' : 3, 'd' : 4, 'e' : 5 } ]\n",
    "print(type(data))\n",
    "data2 = json.dumps(data)\n",
    "print(data2)"
   ]
  },
  {
   "cell_type": "code",
   "execution_count": null,
   "id": "8748677c",
   "metadata": {},
   "outputs": [],
   "source": []
  }
 ],
 "metadata": {
  "kernelspec": {
   "display_name": "Python 3",
   "language": "python",
   "name": "python3"
  },
  "language_info": {
   "codemirror_mode": {
    "name": "ipython",
    "version": 3
   },
   "file_extension": ".py",
   "mimetype": "text/x-python",
   "name": "python",
   "nbconvert_exporter": "python",
   "pygments_lexer": "ipython3",
   "version": "3.8.8"
  }
 },
 "nbformat": 4,
 "nbformat_minor": 5
}
