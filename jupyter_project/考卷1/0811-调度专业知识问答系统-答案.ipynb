{
 "cells": [
  {
   "cell_type": "markdown",
   "metadata": {},
   "source": [
    "# 调度专业知识问答系统\n",
    "## 集训前期提供过调度知识和人工智能的相关题库，每一个问题在excel中可找到相应的答案，即每一个样本数据是 <问题，答案>。 系统的核心思想是根据文本相似度，当用户输入一个问题，从题库中找到最相似的若干题目，然后直接返回相应的答案即可。\n",
    "### 考题1-6\n",
    "#### 1.定义删除母,数字，汉字以外的所有符号的函数remove_punctuation（），补充相关代码。（10分）\n",
    "#### 2.读取文本数据后，采用正则化方法，调用stopwords（）和remove_punctuation（），补充相关代码。（10分）\n",
    "#### 3.建立R行C列的矩阵TfIdf和OneHot，对应存放tfidf向量表示和01向量表示，R为文档样本数，这里是行数，C为不重复词语数，即编码维度，补充相关代码。（30分）\n",
    "#### 4.给定用户问题的单词列表query，通过向量表示Vector和词表words_vocab生成用户问题的向量表示vector_query，补充相关代码。（10分）\n",
    "#### 5.采用余弦相似度、欧式距离和曼哈顿距离计算句子间相似度，补充相关代码。（15分）\n",
    "#### 6.#使用函数cosine_similarity求出与用户问题最相似的问题，排序输出和用户问题相似度最高的前3个问题的答案，补充相关代码。（25分）\n",
    "    注意：这里我们采用TfIdf的向量表示，\n"
   ]
  },
  {
   "cell_type": "markdown",
   "metadata": {},
   "source": [
    "## Part1：文本预处理"
   ]
  },
  {
   "cell_type": "code",
   "execution_count": 28,
   "metadata": {},
   "outputs": [],
   "source": [
    "import pandas as pd\n",
    "import numpy as np\n",
    "import jieba\n",
    "import re\n",
    "import math"
   ]
  },
  {
   "cell_type": "code",
   "execution_count": 29,
   "metadata": {},
   "outputs": [],
   "source": [
    "# 采用正则化方法，定义删除字母,数字，汉字以外的所有符号的函数\n",
    "def remove_punctuation(line):\n",
    "    line = str(line)\n",
    "    #######***************************答题区1***************************#######\n",
    "    ###-----------------------------------10分\n",
    "    if line.strip() == '':\n",
    "        return ''\n",
    "    rule = re.compile(u\"[^a-zA-Z0-9\\u4E00-\\u9FA5]\")\n",
    "    line = rule.sub('', line)\n",
    "    #######************************************************************#######\n",
    "    return line"
   ]
  },
  {
   "cell_type": "code",
   "execution_count": 30,
   "metadata": {
    "scrolled": true
   },
   "outputs": [
    {
     "data": {
      "text/plain": [
       "'电力监控系统安全防护123规定中规定ab什么是电力调度数据网络'"
      ]
     },
     "execution_count": 30,
     "metadata": {},
     "output_type": "execute_result"
    }
   ],
   "source": [
    "#答题1测试\n",
    "line_test=\"《电力监控系统---安全防护123规定》中规定ab什么是 电力调度数`据网络？\"\n",
    "remove_punctuation(line_test)"
   ]
  },
  {
   "cell_type": "code",
   "execution_count": 31,
   "metadata": {},
   "outputs": [],
   "source": [
    "#读取停用词，形成停用词表，类型为list\n",
    "def stopwordslist(filepath):\n",
    "    stopwords = [line.strip() for line in open(filepath, 'r', encoding='utf-8').readlines()]\n",
    "    return stopwords"
   ]
  },
  {
   "cell_type": "code",
   "execution_count": 32,
   "metadata": {},
   "outputs": [],
   "source": [
    "#读取文本数据和停用词文件,采用正则化处理去除文本符号，并去停用词\n",
    "def read_file(filenane):\n",
    "    #######***************************答题区2***************************#######\n",
    "    ###-----------------------------------10分\n",
    "    file_txt = pd.read_excel(filenane, header=0)  \n",
    "    file_txt = file_txt.dropna()  \n",
    "    #停用词加载\n",
    "    stopwords = stopwordslist(\"stopwords.txt\")\n",
    "    #正则化处理去除文本符号\n",
    "    file_txt['clean_review'] = file_txt['题干'].apply(remove_punctuation)\n",
    "    #######************************************************************#######\n",
    "    return file_txt,stopwords\n",
    "xls = '电力调度问答.xlsx'\n",
    "file_txt,stopwords = read_file(xls)"
   ]
  },
  {
   "cell_type": "code",
   "execution_count": 33,
   "metadata": {
    "scrolled": false
   },
   "outputs": [
    {
     "name": "stdout",
     "output_type": "stream",
     "text": [
      "(\"file_txt['cut_review']:\\n\", array([list(['简述', '省级', '电网', '调度', '数据网', '组成部分', '功能', '部分', '之间', '互联', '路由器', '层面', '保证', '路由', '优化', '符合', '访问', '规则']),\n",
      "       list(['简述', '技术', '层面', '防止', '非法', '远程', '登录', '电力', '调度', '数据网', '设备']),\n",
      "       list(['电力', '监控', '系统安全', '防护', '规定', '规定', '电力', '调度', '数据网络']),\n",
      "       list(['IP', '协议', '配置', '基本', '原则']),\n",
      "       list(['路由器', '三种', '不同', '方式', '获得', '到达', '目的', '端的', '路径'])],\n",
      "      dtype=object))\n"
     ]
    }
   ],
   "source": [
    "#处理表格中的数据\n",
    "def build_corpus(file_txt):\n",
    "    file_txt['cut_review'] = file_txt['clean_review'].apply(lambda x: [w for w in list(jieba.cut(x)) if w not in stopwords and len(w) > 1])\n",
    "    return file_txt\n",
    "corpus = build_corpus(file_txt)\n",
    "print((\"file_txt['cut_review']:\\n\",corpus['cut_review'].values[0:5]))\n",
    "#print(file_txt)"
   ]
  },
  {
   "cell_type": "markdown",
   "metadata": {},
   "source": [
    "## Part2 构建向量表示"
   ]
  },
  {
   "cell_type": "code",
   "execution_count": 40,
   "metadata": {},
   "outputs": [],
   "source": [
    "#构建TFIDF向量表示和哦OneHot向量表示\n",
    "def build_tfidf(corpus):\n",
    "    words_vocab =[]#存放不重复词语的列表\n",
    "    #建立R行C列的矩阵TfIdf和OneHot存放tfidf向量表示和01向量表示，R为文档样本数，这里是行数，C为不重复词语数，即编码维度\n",
    "    #######***************************答题区3***************************#######\n",
    "    ###-----------------------------------10分\n",
    "\n",
    "    for sentence in corpus['cut_review']:\n",
    "        words_vocab.extend(sentence)\n",
    "    words_vocab = sorted(set(words_vocab),key=words_vocab.index)#去掉重复的单词，构造词表\n",
    "    \n",
    "    ###-----------------------------------10分\n",
    "    R=len(corpus)\n",
    "    C=len(words_vocab)\n",
    "    OneHot=np.zeros((R,C)) # 初始化全零二维矩阵\n",
    "    Tf=np.zeros((R,C))\n",
    "\n",
    "    for idx, sentence in enumerate(corpus['cut_review']):\n",
    "        for word in sentence:\n",
    "            if word in words_vocab:\n",
    "                pos = words_vocab.index(word)\n",
    "                OneHot[idx][pos]=1\n",
    "                Tf[idx][pos]+=1# tf,统计某词语在一条样本中出现的次数\n",
    "    ###-----------------------------------10分\n",
    "    #计算tf-idf值\n",
    "    #tf值\n",
    "    row_sum=Tf.sum(axis=1) # 行相加，得到每个样本出现的词语数\n",
    "    # 计算TF(t,d)\n",
    "    tf=Tf/row_sum[:,np.newaxis] #分母表示各样本出现的词语数，tf为单词在样本中出现的次数，[:,np.newaxis]作用类似于行列转置\n",
    "    # 计算DF(t,D)，IDF\n",
    "    Df=OneHot.sum(axis=0) # 列相加，表示有多少样本包含词袋某词\n",
    "    Idf=list(map(lambda x:math.log10((R+1)/(x+1)),Df))\n",
    "    # 计算TFIDF\n",
    "    TfIdf=Tf*np.array(Idf)\n",
    "    #######************************************************************#######\n",
    "    TfIdf=pd.DataFrame(TfIdf,columns=words_vocab)\n",
    "    OneHot = pd.DataFrame(OneHot,columns=words_vocab)\n",
    "    return TfIdf,OneHot,words_vocab\n",
    "\n",
    "TfIdf,OneHot,words_vocab = build_tfidf(corpus)\n",
    "   "
   ]
  },
  {
   "cell_type": "code",
   "execution_count": 11,
   "metadata": {},
   "outputs": [],
   "source": [
    "def words_vector(query, Vector, words_vocab):\n",
    "    vector_query = np.zeros(len(words_vocab))\n",
    "    #给定用户问题的单词列表query，通过向量表示Vector和词表words_vocab生成用户问题的向量表示vector_query\n",
    "    #######***************************答题区4***************************#######\n",
    "    ###-----------------------------------10分\n",
    "    Df=Vector.sum(axis=0) # 列相加，表示有多少样本包含词袋某词\n",
    "    R = len(Vector)\n",
    "    Idf=list(map(lambda x:math.log10((R+1)/(x+1)),Df))#words_vocab中所有单词的idf值\n",
    "    for word in set(query):\n",
    "        if word in words_vocab:\n",
    "            vector_query[words_vocab.index(word)]= query.count(word)*Idf[words_vocab.index(word)]\n",
    "    #######************************************************************#######\n",
    "    return vector_query\n",
    "                                                                                "
   ]
  },
  {
   "cell_type": "markdown",
   "metadata": {},
   "source": [
    "## Part3 文本距离计算"
   ]
  },
  {
   "cell_type": "code",
   "execution_count": 15,
   "metadata": {},
   "outputs": [],
   "source": [
    "#句子间距离计算方法\n",
    "def sentences_distance(vec_1, vec_2):\n",
    "    \"\"\"\n",
    "    :return: 两句文本的相识度\n",
    "    \"\"\"\n",
    "    #余弦公式 Cosin Distance\n",
    "    #######***************************答题区5***************************#######\n",
    "    ###-----------------------------------5分\n",
    "    num = vec_1.dot(vec_2.T)\n",
    "    denom = np.linalg.norm(vec_1) * np.linalg.norm(vec_2)\n",
    "    cos = num / denom\n",
    "    #######************************************************************#######\n",
    "    #欧式距离Euclidean Distance\n",
    "    #######***************************答题区5***************************#######\n",
    "    ###-----------------------------------5分\n",
    "    #Euc=np.sqrt(np.sum(np.square(vector1-vector2)))\n",
    "    euc=np.linalg.norm(vec_1-vec_2)\n",
    "    #######************************************************************#######\n",
    "    #曼哈顿距离Manhattan Distance\n",
    "    #######***************************答题区5***************************#######\n",
    "    ###-----------------------------------5分\n",
    "    #Man=np.sum(np.abs(vector1-vector2))\n",
    "    man=np.linalg.norm(vec_1-vec_2,ord=1)\n",
    "    #######************************************************************#######\n",
    "\n",
    "    return cos,euc,man"
   ]
  },
  {
   "cell_type": "markdown",
   "metadata": {},
   "source": [
    "## Part4 问答系统（用户查询与候选问题）"
   ]
  },
  {
   "cell_type": "code",
   "execution_count": 17,
   "metadata": {},
   "outputs": [],
   "source": [
    "#所有问题组合起来的倒排表 result,格式如下\n",
    "#result={word1:[问题1,问题2,...],word2:[问题1,问题3,...]...}\n",
    "#即记录每个词分别出现在第几个问题中\n",
    "result = {}\n",
    "for i in range(len(corpus)):\n",
    "    #print(corpus.iloc[i]['cut_review'])\n",
    "    idx, words = i, corpus.iloc[i]['cut_review']\n",
    "    for word in words:#words in each candicate questions\n",
    "        if word in result.keys():\n",
    "            result[word].append(idx)\n",
    "        else:\n",
    "            result[word]= [idx]\n",
    "#print(result)"
   ]
  },
  {
   "cell_type": "code",
   "execution_count": 18,
   "metadata": {},
   "outputs": [
    {
     "name": "stdout",
     "output_type": "stream",
     "text": [
      "['电力', '监控', '系统', '调度', '数据网络']\n"
     ]
    }
   ],
   "source": [
    "#通过用户问题从问题集合中选出候选问题\n",
    "sentence='电力监控系统中的调度数据网络是什么'\n",
    "clean_reviewyonghu = remove_punctuation(sentence)  # 用户问题去除标点\n",
    "cut_reviewyonghu = [w for w in list(jieba.cut(clean_reviewyonghu)) if\n",
    "                        w not in stopwords and len(w) > 1]  # 用户问题去除停用词，单字词 得到关键词\n",
    "print(cut_reviewyonghu)\n",
    "#查找用户问题关键词在数据库中对应的问题id\n",
    "Problem_Id = []\n",
    "for word in cut_reviewyonghu:\n",
    "    if word in result.keys():\n",
    "        Problem_Id.extend(result[word])\n",
    "id = (list(set(Problem_Id)))  # 去重之后的ID"
   ]
  },
  {
   "cell_type": "code",
   "execution_count": 42,
   "metadata": {
    "scrolled": true
   },
   "outputs": [
    {
     "name": "stdout",
     "output_type": "stream",
     "text": [
      "用户所提的问题是： 电力监控系统中的调度数据网络是什么 \n",
      "\n",
      "********************************************************************\n",
      "和用户问题相似度最高的前3个问题:\n",
      " [(2, 0.6513533036883628), (11, 0.2933322579396123), (14, 0.27594449056341647)]\n",
      "数据库相似的问题是:2 《电力监控系统安全防护规定》中规定什么是电力调度数据网络？ \n",
      " 答案是:电力调度数据网络，是指各级电力调度专用广域数据网络、电力生产专用拨号网络等（14号令如此规定） \n",
      " 相似度是:0.6513533036883628\n",
      "\n",
      "数据库相似的问题是:11 根据国网（调/4）335-2014 《 国家电网公司电力调度自动化系统运行管理规定》，自动化系统出现在哪些情况下应立即向上级电力调度机构汇报？  \n",
      " 答案是:（1）由于自动化系统原因导致电网发生《国家电网公司安全事故调查规程》中规定的5-7级事件；\n",
      "（2）调度技术支持系统全停；\n",
      "（3）省调及以上调度技术支持系统主要功能失效超过1小时，地、县调调度技术支持系统主要功能失效超过4小时；\n",
      "（4）子站设备主要功能连续故障停止运行超过24小时，故障停止运行时间指从对其有调度管辖权的调度机构自动化值班人员发出故障通知时算起，到故障消除、恢复使用时止；\n",
      "（5）数据通信中断厂站数量超过10个且中断时间超过半小时；\n",
      "（6）影响调度自动化系统正常运行的电力二次系统安全事件。 \n",
      " 相似度是:0.2933322579396123\n",
      "\n",
      "数据库相似的问题是:14 《国家电网公司电力调度自动化系统运行管理规定》中对于调度自动化系统缺陷的处理时限有何要求？ \n",
      " 答案是:缺陷处理时间要求：紧急缺陷4小时内处理；重要缺陷24小时内处理；一般缺陷2周内消除。 \n",
      " 相似度是:0.27594449056341647\n",
      "\n",
      "********************************************************************\n",
      "和用户问题相似度最高的前3个问题:\n",
      " [(93, 3.8054992930016587), (92, 3.903840334191012), (2, 4.105729415750348)]\n",
      "数据库相似的问题是:93 什么是AVC系统? \n",
      " 答案是:AVC系统是自动电压控制系统的简称，它是利用计算机和通信技术，对电网中的无功资源以及调压设备进行自动控制，以达到保证电网安全、优质和经济运行的目的。 \n",
      " 相似度是:3.8054992930016587\n",
      "\n",
      "数据库相似的问题是:92 智能电网调度控制系统的主要作用。 \n",
      " 答案是:(1)满足各级电网调度和集中监控的要求，实现电网在线智能分析、预警和决策，以及各类新型发输电技术设备的高效协调和交直流混合电网的精益化控制；(2)实现电网运行可视化全景监视、综合智能告警与前瞻预警、协调控制和主动安全防御；(3)将电网安全运行防线从年月方式分析向日前和在线分析推进，实现运行风险的预防、预控。 \n",
      " 相似度是:3.903840334191012\n",
      "\n",
      "数据库相似的问题是:2 《电力监控系统安全防护规定》中规定什么是电力调度数据网络？ \n",
      " 答案是:电力调度数据网络，是指各级电力调度专用广域数据网络、电力生产专用拨号网络等（14号令如此规定） \n",
      " 相似度是:4.105729415750348\n",
      "\n",
      "********************************************************************\n",
      "和用户问题相似度最高的前3个问题:\n",
      " [(93, 8.184784177685076), (2, 8.649620569462787), (92, 10.627235424438595)]\n",
      "数据库相似的问题是:93 什么是AVC系统? \n",
      " 答案是:AVC系统是自动电压控制系统的简称，它是利用计算机和通信技术，对电网中的无功资源以及调压设备进行自动控制，以达到保证电网安全、优质和经济运行的目的。 \n",
      " 相似度是:8.184784177685076\n",
      "\n",
      "数据库相似的问题是:2 《电力监控系统安全防护规定》中规定什么是电力调度数据网络？ \n",
      " 答案是:电力调度数据网络，是指各级电力调度专用广域数据网络、电力生产专用拨号网络等（14号令如此规定） \n",
      " 相似度是:8.649620569462787\n",
      "\n",
      "数据库相似的问题是:92 智能电网调度控制系统的主要作用。 \n",
      " 答案是:(1)满足各级电网调度和集中监控的要求，实现电网在线智能分析、预警和决策，以及各类新型发输电技术设备的高效协调和交直流混合电网的精益化控制；(2)实现电网运行可视化全景监视、综合智能告警与前瞻预警、协调控制和主动安全防御；(3)将电网安全运行防线从年月方式分析向日前和在线分析推进，实现运行风险的预防、预控。 \n",
      " 相似度是:10.627235424438595\n",
      "\n",
      "********************************************************************\n"
     ]
    }
   ],
   "source": [
    "#计算余弦相似度\n",
    "query = sentence  # 用户所提问题\n",
    "similarity_cos = {}  # 存储余弦相似度结果\n",
    "similarity_euc = {}  # 存储欧式距离结果\n",
    "similarity_man = {}  # 存储曼哈顿距离结果\n",
    "if len(id) == 0:\n",
    "    print('数据库里没有该问题，请重新提问')\n",
    "else:\n",
    "    #使用函数cosine_similarity求出与用户问题最相似的问题，\n",
    "    #排序输出和用户问题相似度最高的前3个问题的答案案\n",
    "    #这里我们采用TfIdf的向量表示\n",
    "#######***************************答题区6***************************#######\n",
    "###-----------------------------------15分\n",
    "    for index in id:\n",
    "        candicate = corpus.iloc[index]['题干']\n",
    "        vec_1 = words_vector(cut_reviewyonghu,OneHot,words_vocab)\n",
    "        vec_2 = TfIdf.loc[index].values[0:]\n",
    "        simil_cos,simil_euc,simil_man = sentences_distance(vec_1, vec_2)  # 余弦相识度\n",
    "        #print('用户查询和问题{0}的相似度是：{1}'.format(candicate, simil_value))\n",
    "        similarity_cos[index] = simil_cos\n",
    "        similarity_euc[index] = simil_euc\n",
    "        similarity_man[index] = simil_man\n",
    "#输出和用户问题相似度最高几个问题的答案\n",
    "###-----------------------------------10分\n",
    "res_cos = sorted(similarity_cos.items(), key=lambda d: d[1], reverse=True)[:3]  # 降序\n",
    "res_euc = sorted(similarity_euc.items(), key=lambda d: d[1], reverse=False)[:3]  # 升序\n",
    "res_man = sorted(similarity_man.items(), key=lambda d: d[1], reverse=False)[:3]  # 升序\n",
    "#######************************************************************#######\n",
    "#res_cos,res_euc,res_man分别存放的是排序后的相似问题及相似度分数\n",
    "\n",
    "#打印输出结果\n",
    "print('用户所提的问题是：', query,'\\n')\n",
    "print('********************************************************************')\n",
    "#余弦相似度排名\n",
    "print(\"和用户问题相似度最高的前3个问题:\\n\",res_cos)\n",
    "for i, j in res_cos:\n",
    "    print('数据库相似的问题是:{0} {1} \\n 答案是:{2} \\n 相似度是:{3}\\n'.format(i,corpus.iloc[i]['题干'], corpus.iloc[i]['答案'],j))\n",
    "print('********************************************************************')\n",
    "#欧式距离排名\n",
    "print(\"和用户问题相似度最高的前3个问题:\\n\",res_euc)\n",
    "for i, j in res_euc:\n",
    "     print('数据库相似的问题是:{0} {1} \\n 答案是:{2} \\n 相似度是:{3}\\n'.format(i,corpus.iloc[i]['题干'], corpus.iloc[i]['答案'],j))\n",
    "print('********************************************************************')\n",
    "#曼哈顿距离排名\n",
    "print(\"和用户问题相似度最高的前3个问题:\\n\",res_man)\n",
    "for i, j in res_man:\n",
    "     print('数据库相似的问题是:{0} {1} \\n 答案是:{2} \\n 相似度是:{3}\\n'.format(i,corpus.iloc[i]['题干'], corpus.iloc[i]['答案'],j))\n",
    "print('********************************************************************')"
   ]
  },
  {
   "cell_type": "code",
   "execution_count": null,
   "metadata": {},
   "outputs": [],
   "source": []
  },
  {
   "cell_type": "code",
   "execution_count": null,
   "metadata": {},
   "outputs": [],
   "source": []
  }
 ],
 "metadata": {
  "kernelspec": {
   "display_name": "Python 3",
   "language": "python",
   "name": "python3"
  },
  "language_info": {
   "codemirror_mode": {
    "name": "ipython",
    "version": 3
   },
   "file_extension": ".py",
   "mimetype": "text/x-python",
   "name": "python",
   "nbconvert_exporter": "python",
   "pygments_lexer": "ipython3",
   "version": "3.8.8"
  }
 },
 "nbformat": 4,
 "nbformat_minor": 2
}
