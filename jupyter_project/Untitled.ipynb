{
 "cells": [
  {
   "cell_type": "code",
   "execution_count": 5,
   "id": "28b183f3",
   "metadata": {},
   "outputs": [
    {
     "name": "stdout",
     "output_type": "stream",
     "text": [
      "请输入第一个数字：15\n",
      "请输入第一个数字：36\n",
      "15 和 36 的公约数为 3\n"
     ]
    }
   ],
   "source": [
    "num1 = int(input(\"请输入第一个数字：\"))\n",
    "num2 = int(input(\"请输入第一个数字：\"))\n",
    "m = max(num1, num2)\n",
    "n = min(num1, num2)\n",
    "r = m % n\n",
    "while r != 0:\n",
    "    m = n\n",
    "    n = r\n",
    "    r = m % n\n",
    "print(num1, \"和\", num2, \"的公约数为\", n)"
   ]
  },
  {
   "cell_type": "code",
   "execution_count": 13,
   "id": "73be48f7",
   "metadata": {},
   "outputs": [
    {
     "name": "stdout",
     "output_type": "stream",
     "text": [
      "输入一个正整数：30\n",
      "111\n"
     ]
    }
   ],
   "source": [
    "n = int(input(\"输入一个正整数：\"))\n",
    "k = 0\n",
    "for i in range(1, n+1):\n",
    "    m = int(n/i)\n",
    "    for j in range(1, m+1):\n",
    "        k = k +1\n",
    "print(k)"
   ]
  },
  {
   "cell_type": "code",
   "execution_count": null,
   "id": "a0a6360c",
   "metadata": {},
   "outputs": [],
   "source": []
  }
 ],
 "metadata": {
  "kernelspec": {
   "display_name": "Python 3",
   "language": "python",
   "name": "python3"
  },
  "language_info": {
   "codemirror_mode": {
    "name": "ipython",
    "version": 3
   },
   "file_extension": ".py",
   "mimetype": "text/x-python",
   "name": "python",
   "nbconvert_exporter": "python",
   "pygments_lexer": "ipython3",
   "version": "3.8.8"
  }
 },
 "nbformat": 4,
 "nbformat_minor": 5
}
