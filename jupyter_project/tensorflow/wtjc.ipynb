{
 "cells": [
  {
   "cell_type": "markdown",
   "id": "33e5ceea",
   "metadata": {},
   "source": [
    "## 迁移学习案例\n",
    "- 读取本地的图片及类别\n",
    "  - keras.preprocessing.image import ImageDataGenerator\n",
    "  - train_generator = ImageDataGenerator()\n",
    "   - flow(x, y, batch_size)\n",
    "   - flow_from_derectory()"
   ]
  },
  {
   "cell_type": "markdown",
   "id": "3570b575",
   "metadata": {},
   "source": [
    "flow_from_derectory()\n"
   ]
  },
  {
   "cell_type": "code",
   "execution_count": null,
   "id": "c0290c05",
   "metadata": {},
   "outputs": [],
   "source": []
  }
 ],
 "metadata": {
  "kernelspec": {
   "display_name": "Python 3",
   "language": "python",
   "name": "python3"
  },
  "language_info": {
   "codemirror_mode": {
    "name": "ipython",
    "version": 3
   },
   "file_extension": ".py",
   "mimetype": "text/x-python",
   "name": "python",
   "nbconvert_exporter": "python",
   "pygments_lexer": "ipython3",
   "version": "3.8.8"
  }
 },
 "nbformat": 4,
 "nbformat_minor": 5
}
