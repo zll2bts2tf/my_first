{
 "cells": [
  {
   "cell_type": "code",
   "execution_count": 2,
   "id": "2fd07335",
   "metadata": {},
   "outputs": [],
   "source": [
    "import pandas as pd"
   ]
  },
  {
   "cell_type": "markdown",
   "id": "1996bafb",
   "metadata": {},
   "source": [
    "### 绿色是一个输入代码的模式\n",
    "* ese -> 命令模式\n",
    "## 编辑模式进入命令模式：esc\n",
    "## 命令模式进入编辑模式：enter"
   ]
  },
  {
   "cell_type": "code",
   "execution_count": 2,
   "id": "0e95d3cd",
   "metadata": {},
   "outputs": [
    {
     "data": {
      "text/plain": [
       "5050"
      ]
     },
     "execution_count": 2,
     "metadata": {},
     "output_type": "execute_result"
    }
   ],
   "source": [
    "sum(range(101))"
   ]
  },
  {
   "cell_type": "markdown",
   "id": "9d7fc2c7",
   "metadata": {},
   "source": [
    "shift+enter:运行当前代码块，且光标进入下面代码块\n",
    "ctrl+enter:运行当前代码块，并且光标停留在当前代码块\n",
    "dd:删除当前代码\n",
    "b:在下方添加一个空代码块\n",
    "a:在上方添加一个空代码块\n",
    "m:将编辑语言代码块i安城Markdown代码块\n",
    "y:将Markdown代码块变为编程语言代码块\n",
    "\n",
    "[python](http://www.baidu.com/)\n",
    "[tfboys](https://baike.baidu.com/item/TFboys/9083733)\n",
    "![图片]()\n",
    "- 第一点\n",
    "- 第二点\n",
    "1. 第一\n",
    "2. 第二\n",
    "\n",
    "$$z=x+y$$\n",
    "$$\\frac{2}{x+y}$$\n",
    "# 一级标题\n",
    "## 二级标题\n",
    "### 三级标题\n",
    "**加粗**\n",
    "\n",
    "*斜体*"
   ]
  },
  {
   "cell_type": "markdown",
   "id": "42e08553",
   "metadata": {},
   "source": [
    "## 2.基本语法"
   ]
  },
  {
   "cell_type": "markdown",
   "id": "bfe065ac",
   "metadata": {},
   "source": [
    "### 2.1字体设置斜体，粗体，删除线"
   ]
  },
  {
   "cell_type": "markdown",
   "id": "bbc3bc1d",
   "metadata": {},
   "source": [
    "正常文字\n",
    "*这里是文字*\n",
    "_这里是文字_\n",
    "**这里是文字**\n",
    "***这里是文字***\n",
    "~~这里是文字~~"
   ]
  },
  {
   "cell_type": "markdown",
   "id": "5b8662a8",
   "metadata": {},
   "source": [
    "## 2.3链接"
   ]
  },
  {
   "cell_type": "markdown",
   "id": "6caee635",
   "metadata": {},
   "source": [
    "（1）插入本地图片链接\n",
    "语法规则，有两种写法：\n",
    "![图片描述](图片路径)\n",
    "（2）插入互联网照片\n",
    "语法规则：\n",
    "![鱼片描述](图片网路路径)\n",
    "（3）自动连接\n",
    "Markdown支持以比较简短的自动连接形式来处理网址和电子邮箱信件，只要是用<>包起来，Markdown就会自动把它转化成链接。也可以直接写，也是可以显示链接形式的。"
   ]
  },
  {
   "cell_type": "markdown",
   "id": "1edfbacc",
   "metadata": {},
   "source": [
    "## 2.4分割线"
   ]
  },
  {
   "cell_type": "markdown",
   "id": "0a49a99f",
   "metadata": {},
   "source": [
    "你可以在一行中用三个以上的星号（*）、减号（-）、底线（_）来建立一个分割线，行内不能有其他东西。你也可以在星号\n",
    "或减号中间插入空格"
   ]
  },
  {
   "cell_type": "markdown",
   "id": "82b70768",
   "metadata": {},
   "source": [
    "____________\n",
    "*****\n",
    "-------"
   ]
  },
  {
   "cell_type": "markdown",
   "id": "86495045",
   "metadata": {},
   "source": [
    "____________\n",
    "*****\n",
    "-------"
   ]
  },
  {
   "cell_type": "markdown",
   "id": "376286ee",
   "metadata": {},
   "source": [
    "## 2.8表格"
   ]
  },
  {
   "cell_type": "markdown",
   "id": "5bd1b54e",
   "metadata": {},
   "source": [
    "学号|姓名|分数\n",
    ":-|:-:|-:\n",
    "小明|男|75\n",
    "小红|女|79\n",
    "小陆|男|92"
   ]
  },
  {
   "cell_type": "markdown",
   "id": "7e5224bf",
   "metadata": {},
   "source": [
    "学号|姓名|分数\n",
    ":-|:-:|-:\n",
    "小明|男|75\n",
    "小红|女|79\n",
    "小陆|男|92"
   ]
  },
  {
   "cell_type": "markdown",
   "id": "7c6e5201",
   "metadata": {},
   "source": []
  }
 ],
 "metadata": {
  "kernelspec": {
   "display_name": "Python 3",
   "language": "python",
   "name": "python3"
  },
  "language_info": {
   "codemirror_mode": {
    "name": "ipython",
    "version": 3
   },
   "file_extension": ".py",
   "mimetype": "text/x-python",
   "name": "python",
   "nbconvert_exporter": "python",
   "pygments_lexer": "ipython3",
   "version": "3.8.8"
  }
 },
 "nbformat": 4,
 "nbformat_minor": 5
}
