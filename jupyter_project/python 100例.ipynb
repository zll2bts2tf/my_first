{
 "cells": [
  {
   "cell_type": "markdown",
   "id": "0fec6dc4",
   "metadata": {},
   "source": [
    "### 1.有四个数字：1，2，3，4，能组成多少个互不相同且无重复数字的三位数？各是多少？"
   ]
  },
  {
   "cell_type": "code",
   "execution_count": 4,
   "id": "0cd3c8e2",
   "metadata": {},
   "outputs": [
    {
     "name": "stdout",
     "output_type": "stream",
     "text": [
      "1 2 3\n",
      "1 2 4\n",
      "1 3 2\n",
      "1 3 4\n",
      "1 4 2\n",
      "1 4 3\n",
      "2 1 3\n",
      "2 1 4\n",
      "2 3 1\n",
      "2 3 4\n",
      "2 4 1\n",
      "2 4 3\n",
      "3 1 2\n",
      "3 1 4\n",
      "3 2 1\n",
      "3 2 4\n",
      "3 4 1\n",
      "3 4 2\n",
      "4 1 2\n",
      "4 1 3\n",
      "4 2 1\n",
      "4 2 3\n",
      "4 3 1\n",
      "4 3 2\n",
      "a= 24\n"
     ]
    }
   ],
   "source": [
    "a= 0\n",
    "for i in range(1,5):\n",
    "    for j in range(1,5):\n",
    "        for k in range(1,5):\n",
    "            if(i != j) and (i != k) and (j != k):\n",
    "                a += 1\n",
    "                print(i,j,k)\n",
    "print(\"a =\",a)"
   ]
  },
  {
   "cell_type": "markdown",
   "id": "8e0ffc0b",
   "metadata": {},
   "source": [
    "### 2.一个整数，加上100后是一个完全平方数，再加上168又是一个平方数，请问该数是多少？\n",
    "假设该数为x\n",
    "1. 则 x+100=n * n ,x+100+168 =m * m\n",
    "2. 计算等式m * m - n * n  （m+n）（m-n） =168\n",
    "3. 设置m+n = i, m-n = j,i* j=168,i和j至少有一个是偶数\n",
    "4. 可得：m = (i+j)/2,n=(i-j)/2,i和j要么全是偶数要么全是奇数\n",
    "5. 从3和4 推导可得，i和j都是大于等于2的偶数\n",
    "6. 由于i* j=168,j>=2,则1<i<168/2+1\n",
    "7. 接下来将i是所有数字循环计算即可"
   ]
  },
  {
   "cell_type": "code",
   "execution_count": 7,
   "id": "73198fb0",
   "metadata": {},
   "outputs": [
    {
     "name": "stdout",
     "output_type": "stream",
     "text": [
      "-99.0\n",
      "21.0\n",
      "261.0\n",
      "1581.0\n"
     ]
    }
   ],
   "source": [
    "for i in range(1,85):\n",
    "    if(168 % i == 0):\n",
    "        j = 168 / i\n",
    "        if(i >j ) and (i + j) % 2 == 0 and(i - j) % 2 == 0:\n",
    "            m = (i + j) / 2\n",
    "            n = (i - j) / 2\n",
    "            x = n * n - 100\n",
    "            print(x)"
   ]
  },
  {
   "cell_type": "markdown",
   "id": "7967f20f",
   "metadata": {},
   "source": [
    "### 3.输入某年某月某日判断这一天是这一年的第几天？\n",
    "程序分析：以3月5日为例，应该先把前两个月的加起来，然后再加上5天即本年的第几天，特殊情况，闰年输入月份大于2时需考虑多加一天。"
   ]
  },
  {
   "cell_type": "code",
   "execution_count": 9,
   "id": "43eb4a0e",
   "metadata": {},
   "outputs": [
    {
     "name": "stdout",
     "output_type": "stream",
     "text": [
      "year:\n",
      "2015\n",
      "month:\n",
      "7\n",
      "day:\n",
      "23\n",
      "it is the 204th day.\n"
     ]
    }
   ],
   "source": [
    "year = int(input(\"year:\\n\"))\n",
    "month = int(input(\"month:\\n\"))\n",
    "day = int(input(\"day:\\n\"))\n",
    "\n",
    "months = (0, 31, 59, 90,120, 151, 181, 212, 243, 273, 304, 334)\n",
    "if 0 < month <= 12:\n",
    "    sum = months[month - 1]\n",
    "else:\n",
    "    print(\"data error\")\n",
    "    \n",
    "sum += day\n",
    "leap = 0\n",
    "if(year % 400 == 0) or ((year % 4 == 0) and (year % 100 != 0)):\n",
    "    leap = 1\n",
    "if (leap == 1) and (month > 2):\n",
    "    sum += 1\n",
    "print(\"it is the %dth day.\" % sum)\n"
   ]
  },
  {
   "cell_type": "markdown",
   "id": "aca1e3e3",
   "metadata": {},
   "source": [
    "### 5.输入三个整数，请把这三个数从小到大输出"
   ]
  },
  {
   "cell_type": "code",
   "execution_count": 13,
   "id": "7b41f773",
   "metadata": {},
   "outputs": [
    {
     "name": "stdout",
     "output_type": "stream",
     "text": [
      "integer:\n",
      "54\n",
      "integer:\n",
      "34\n",
      "integer:\n",
      "65\n",
      "[34, 54, 65]\n"
     ]
    }
   ],
   "source": [
    "l= []\n",
    "for i in range(3):\n",
    "    x = int(input(\"integer:\\n\"))\n",
    "    l.append(x)\n",
    "l.sort()  \n",
    "print(l)"
   ]
  },
  {
   "cell_type": "markdown",
   "id": "ad35613a",
   "metadata": {},
   "source": [
    "### 6.斐波那契数列"
   ]
  },
  {
   "cell_type": "code",
   "execution_count": 19,
   "id": "9e7b0afb",
   "metadata": {},
   "outputs": [
    {
     "name": "stdout",
     "output_type": "stream",
     "text": [
      "[1, 1, 2, 3, 5, 8, 13, 21, 34, 55]\n"
     ]
    }
   ],
   "source": [
    "def fib(x):\n",
    "    a, b = 1, 1\n",
    "    l = []\n",
    "    for i in range(x):\n",
    "        l.append(a)\n",
    "        l.append(b)\n",
    "        a = a + b\n",
    "        b = a + b \n",
    "    print(l)\n",
    "fib(5)\n"
   ]
  },
  {
   "cell_type": "markdown",
   "id": "b56819df",
   "metadata": {},
   "source": [
    "用递归"
   ]
  },
  {
   "cell_type": "code",
   "execution_count": 20,
   "id": "a60855bc",
   "metadata": {},
   "outputs": [
    {
     "name": "stdout",
     "output_type": "stream",
     "text": [
      "[1, 1, 2, 3, 5, 8, 13, 21, 34, 55]\n"
     ]
    }
   ],
   "source": [
    "def fib(n):\n",
    "    if n == 1:\n",
    "        return [1]\n",
    "    if n == 2:\n",
    "        return [1, 1]\n",
    "    fibs = [1, 1]\n",
    "    for i in range(2, n):\n",
    "        fibs.append(fibs[-1] + fibs[-2])\n",
    "    return fibs\n",
    "\n",
    "#输出前十个斐波拉契数列\n",
    "print(fib(10))\n",
    "\n",
    "    "
   ]
  },
  {
   "cell_type": "markdown",
   "id": "3eb6d86e",
   "metadata": {},
   "source": [
    "### 7.将一个列表复制到另一个列表"
   ]
  },
  {
   "cell_type": "code",
   "execution_count": 25,
   "id": "767ae07c",
   "metadata": {},
   "outputs": [
    {
     "name": "stdout",
     "output_type": "stream",
     "text": [
      "[1, 3, 5] [1, 2, 5]\n",
      "[1, 2, 5]\n"
     ]
    }
   ],
   "source": [
    "a = [1, 2, 3]\n",
    "a[2] = 5\n",
    "b = a[:]\n",
    "b[1] = 3\n",
    "print(b, a)\n",
    "b = a.copy()\n",
    "print(b)"
   ]
  },
  {
   "cell_type": "markdown",
   "id": "8d2a77ed",
   "metadata": {},
   "source": [
    "### 8.输出9*9乘法口诀"
   ]
  },
  {
   "cell_type": "code",
   "execution_count": 38,
   "id": "45b55c0f",
   "metadata": {},
   "outputs": [
    {
     "name": "stdout",
     "output_type": "stream",
     "text": [
      "\n",
      "1*1=1 \n",
      "1*2=2 2*2=4 \n",
      "1*3=3 2*3=6 3*3=9 \n",
      "1*4=4 2*4=8 3*4=12 4*4=16 \n",
      "1*5=5 2*5=10 3*5=15 4*5=20 5*5=25 \n",
      "1*6=6 2*6=12 3*6=18 4*6=24 5*6=30 6*6=36 \n",
      "1*7=7 2*7=14 3*7=21 4*7=28 5*7=35 6*7=42 7*7=49 \n",
      "1*8=8 2*8=16 3*8=24 4*8=32 5*8=40 6*8=48 7*8=56 8*8=64 \n",
      "1*9=9 2*9=18 3*9=27 4*9=36 5*9=45 6*9=54 7*9=63 8*9=72 9*9=81 "
     ]
    }
   ],
   "source": [
    "for i in range(1, 10):\n",
    "    print()\n",
    "    for j in range(1, i+1):\n",
    "        print(\"%d*%d=%d\" % (j, i, j*i),end = \" \")"
   ]
  },
  {
   "cell_type": "markdown",
   "id": "e0abf760",
   "metadata": {},
   "source": [
    "### 9.暂停一秒输出"
   ]
  },
  {
   "cell_type": "code",
   "execution_count": 39,
   "id": "23684191",
   "metadata": {},
   "outputs": [
    {
     "name": "stdout",
     "output_type": "stream",
     "text": [
      "1 a\n",
      "2 b\n"
     ]
    }
   ],
   "source": [
    "import time\n",
    "my = {1: \"a\", 2: \"b\"}\n",
    "for key, value in dict.items(my):\n",
    "    print(key, value)\n",
    "    time.sleep(1)\n",
    "    "
   ]
  },
  {
   "cell_type": "markdown",
   "id": "12f4fbda",
   "metadata": {},
   "source": [
    "### 10.暂停一秒输出，并格式化当前时间\n",
    "time.sleep(secs)    睡眠\n",
    "\n",
    "time.time()       以秒为单位返回作为浮点数的时间\n",
    "\n",
    "loacltime()       将时间 转化为struct_time\n",
    "\n",
    "time.mktime()      将struct_time转化为时间\n",
    "\n",
    "time.strftime(formate[,t]) 将struct_time转化为指定格式字符串，默认使用当前时间\n",
    "\n",
    "time.strptime(string[,format]) 将字符串转换为struct_time，默认使用当前时间\n"
   ]
  },
  {
   "cell_type": "code",
   "execution_count": 37,
   "id": "9e0dec41",
   "metadata": {},
   "outputs": [
    {
     "name": "stdout",
     "output_type": "stream",
     "text": [
      "2021-09-24 20:00:32\n",
      "2021-09-24 20:00:33\n"
     ]
    }
   ],
   "source": [
    "import time\n",
    "\n",
    "print(time.strftime(\"%Y-%m-%d %H:%M:%S\",time.localtime(time.time())))\n",
    "#z暂停一秒\n",
    "time.sleep(1)\n",
    "print(time.strftime(\"%Y-%m-%d %H:%M:%S\",time.localtime(time.time())))\n"
   ]
  },
  {
   "cell_type": "markdown",
   "id": "e37df4d9",
   "metadata": {},
   "source": [
    "### 12.判断101~200之间有多少个素数，并输出所有素数\n",
    "程序分析：判断素数的方法：用一个数分别除2到sqrt(这个数)，如果能被整除，则不是素数，反之是素数"
   ]
  },
  {
   "cell_type": "code",
   "execution_count": 53,
   "id": "b86b5427",
   "metadata": {},
   "outputs": [
    {
     "name": "stdout",
     "output_type": "stream",
     "text": [
      "101\n",
      "103\n",
      "105\n",
      "107\n",
      "109\n",
      "111\n",
      "113\n",
      "115\n",
      "117\n",
      "119\n",
      "121\n",
      "123\n",
      "125\n",
      "127\n",
      "129\n",
      "131\n",
      "133\n",
      "135\n",
      "137\n",
      "139\n",
      "141\n",
      "143\n",
      "145\n",
      "147\n",
      "149\n",
      "151\n",
      "153\n",
      "155\n",
      "157\n",
      "159\n",
      "161\n",
      "163\n",
      "165\n",
      "167\n",
      "169\n",
      "171\n",
      "173\n",
      "175\n",
      "177\n",
      "179\n",
      "181\n",
      "183\n",
      "185\n",
      "187\n",
      "189\n",
      "191\n",
      "193\n",
      "195\n",
      "197\n",
      "199\n"
     ]
    }
   ],
   "source": [
    "from math import sqrt\n",
    "h = 0\n",
    "for i in range(101, 201):\n",
    "    for j in range(2, int(sqrt(i) + 1)):\n",
    "        if i % j == 0:\n",
    "            break\n",
    "        else:\n",
    "            print(i)\n",
    "            h += 1\n",
    "            break    "
   ]
  },
  {
   "cell_type": "markdown",
   "id": "13cb3ca6",
   "metadata": {},
   "source": [
    "### 13.打印出所有水仙花数\n",
    "水仙花数是指一个三位数其各位立方和等于该数本身\n",
    "3/2 = 1.5\n",
    "3//2 = 1"
   ]
  },
  {
   "cell_type": "code",
   "execution_count": 67,
   "id": "e9b29dcd",
   "metadata": {},
   "outputs": [
    {
     "name": "stdout",
     "output_type": "stream",
     "text": [
      "153\n",
      "370\n",
      "371\n",
      "407\n"
     ]
    }
   ],
   "source": [
    "for i in range(100, 999):\n",
    "    a = i // 100\n",
    "    b = i // 10 % 10\n",
    "    c = i % 10\n",
    "    d = a * a * a + b * b * b + c * c * c\n",
    "    if i == d:\n",
    "        print(i)"
   ]
  },
  {
   "cell_type": "markdown",
   "id": "87d6be37",
   "metadata": {},
   "source": [
    "### 14.将一个正整数分解质因数。例如输入90，打印90=2 * 3 * 3 * 5"
   ]
  },
  {
   "cell_type": "code",
   "execution_count": 5,
   "id": "9b343b7b",
   "metadata": {},
   "outputs": [
    {
     "name": "stdout",
     "output_type": "stream",
     "text": [
      "90= 2 * 3 * 5 * 3\n",
      "100= 2 * 5 * 10\n"
     ]
    }
   ],
   "source": [
    "def reduceNum(n):\n",
    "    print(\"{}=\".format(n), end= ' ')\n",
    "    if not isinstance(n, int) or n <= 0:  \n",
    "        print(\"请输入一个正确的数字\")\n",
    "        exit(0)\n",
    "    elif n in [1]:\n",
    "        print('{}'.format(n))\n",
    "    while n not in [1]:\n",
    "        for index in range(2, n+1):\n",
    "            if n % index == 0:\n",
    "                n //= index\n",
    "                if n == 1:\n",
    "                    print(index)\n",
    "                else:\n",
    "                    print(\"{} *\".format(index), end=\" \") \n",
    "                    break\n",
    "reduceNum(90)\n",
    "reduceNum(100)\n",
    "\n",
    "                \n",
    "    \n",
    "    "
   ]
  },
  {
   "cell_type": "markdown",
   "id": "4c1a79ae",
   "metadata": {},
   "source": [
    "### 15.利用条件运算符的嵌套完成此题。学习成绩>=90的同学用A，60~89用B，60分以下C \n",
    "（a > b）? a : b"
   ]
  },
  {
   "cell_type": "code",
   "execution_count": 8,
   "id": "30d98b76",
   "metadata": {},
   "outputs": [
    {
     "name": "stdout",
     "output_type": "stream",
     "text": [
      "please input your score and you will get a rank!89\n",
      "B\n"
     ]
    }
   ],
   "source": [
    "a = int(input(\"please input your score and you will get a rank!\"))\n",
    "if a >= 90:\n",
    "    print(\"A\")\n",
    "elif a < 60:\n",
    "    print(\"C\")\n",
    "else:\n",
    "    print(\"B\")\n"
   ]
  },
  {
   "cell_type": "markdown",
   "id": "48c33689",
   "metadata": {},
   "source": [
    "### 17.输入一行字符串，分别统计其中英文字母，空格，数字和其他字符的个数。"
   ]
  },
  {
   "cell_type": "code",
   "execution_count": 11,
   "id": "06d8533a",
   "metadata": {},
   "outputs": [
    {
     "name": "stdout",
     "output_type": "stream",
     "text": [
      "请输入一行字符串！hdj68 yd8n x' 0sxm\n",
      "a=10, b=3, d=4,o=1\n"
     ]
    }
   ],
   "source": [
    "c = input(\"请输入一行字符串！\")\n",
    "a = 0\n",
    "b = 0\n",
    "d = 0\n",
    "o = 0\n",
    "for i in c:\n",
    "    if i.isalpha():\n",
    "        a += 1\n",
    "    elif i.isspace():\n",
    "        b += 1\n",
    "    elif i.isdigit():\n",
    "        d += 1\n",
    "    else:\n",
    "        o += 1\n",
    "        \n",
    "print(\"a=%d, b=%d, d=%d,o=%d\" % (a, b, d, o))\n",
    "        \n",
    "    "
   ]
  },
  {
   "cell_type": "markdown",
   "id": "11ef2b0f",
   "metadata": {},
   "source": [
    "### 18.求s=a+aa+aaa+aaaa+a……a是值，其中a是一个数字，几个数相加有键盘控制"
   ]
  },
  {
   "cell_type": "code",
   "execution_count": 18,
   "id": "1031e88f",
   "metadata": {},
   "outputs": [
    {
     "name": "stdout",
     "output_type": "stream",
     "text": [
      "请输入一个1~9的数3\n",
      "how much number you want to add?3\n",
      "[3, 33, 333]\n",
      "369\n"
     ]
    }
   ],
   "source": [
    "b= 0\n",
    "a = int(input(\"请输入一个1~9的数\"))\n",
    "n = int(input(\"how much number you want to add?\"))\n",
    "l = []\n",
    "s = n\n",
    "l.append(s)\n",
    "for i in range(1, n):\n",
    "    s = s * 10 + s % 10\n",
    "    l.append(s)\n",
    "print(l)\n",
    "for j in l:\n",
    "    b += j\n",
    "print(b)\n",
    "\n",
    "    \n",
    "     "
   ]
  },
  {
   "cell_type": "code",
   "execution_count": 19,
   "id": "81a35cc1",
   "metadata": {},
   "outputs": [
    {
     "name": "stdout",
     "output_type": "stream",
     "text": [
      "n=3\n",
      "a=3\n",
      "3\n",
      "33\n",
      "333\n",
      "计算和为： 369\n"
     ]
    }
   ],
   "source": [
    "from functools import reduce\n",
    "tn = 0\n",
    "sn = []\n",
    "n = int(input(\"n=\"))\n",
    "a = int(input(\"a=\"))\n",
    "for count in range(n):\n",
    "    tn = tn + a\n",
    "    a = a * 10\n",
    "    sn.append(tn)\n",
    "    print(tn)\n",
    "sn = reduce(lambda x, y :x + y ,sn)    #lambdas是匿名函数\n",
    "print(\"计算和为：\",sn)"
   ]
  },
  {
   "cell_type": "markdown",
   "id": "bbecd7c9",
   "metadata": {},
   "source": [
    "### 19.一个数相加恰好等于它的因子之和，这个数就称为”完数“，编程找到1000以内所有完数"
   ]
  },
  {
   "cell_type": "code",
   "execution_count": null,
   "id": "9e7b8749",
   "metadata": {},
   "outputs": [],
   "source": []
  },
  {
   "cell_type": "markdown",
   "id": "31ed55c8",
   "metadata": {},
   "source": [
    "### 20.一球从100米高度自由落下，每次落地后反跳会原高度的一半；再落下，求它在第十次落地时共经过多少米？第十次反跳多高？"
   ]
  },
  {
   "cell_type": "code",
   "execution_count": 22,
   "id": "f7666a4c",
   "metadata": {},
   "outputs": [
    {
     "name": "stdout",
     "output_type": "stream",
     "text": [
      "[50.0, 25.0, 12.5, 6.25, 3.125, 1.5625, 0.78125, 0.390625, 0.1953125, 0.09765625]\n",
      "299.8046875\n",
      "0.09765625\n"
     ]
    }
   ],
   "source": [
    "n = 100\n",
    "s = []\n",
    "for i in range(10):\n",
    "    n = n / 2\n",
    "    s.append(n)\n",
    "print(s)\n",
    "l = 0\n",
    "for j in s:\n",
    "    l += (j * 2)\n",
    "print(100 + l)\n",
    "print(s[-1])\n",
    "    "
   ]
  },
  {
   "cell_type": "markdown",
   "id": "4dfee7f5",
   "metadata": {},
   "source": [
    "### 21.猴子吃桃：猴子第一天摘下若干个桃子，当即吃了一半，不过瘾，又多吃了一个。第二天又将剩下的吃了一半又多吃一个。到第10天早上再吃，只剩一个桃子。求第一天摘的桃子数目。"
   ]
  },
  {
   "cell_type": "code",
   "execution_count": 2,
   "id": "e2f3e784",
   "metadata": {
    "scrolled": true
   },
   "outputs": [
    {
     "name": "stdout",
     "output_type": "stream",
     "text": [
      "1534\n"
     ]
    }
   ],
   "source": [
    "x2 = 1\n",
    "for day in range(9, 0, -1):\n",
    "    x1 = (x2 +1 ) * 2\n",
    "    x2 = x1\n",
    "print(x1)\n"
   ]
  },
  {
   "cell_type": "markdown",
   "id": "172709e4",
   "metadata": {},
   "source": [
    "### 22.两个乒乓球队进行比赛，各出三人，甲队为a,b,c三人，乙队为x,y,z三人。以抽签决定比赛名单。有人向队员打听比赛的名单。a说他不和x比，c说他不和x,z比，请编程找出三队赛手的名单。\n",
    "ord()显示字符的ASCII的值"
   ]
  },
  {
   "cell_type": "code",
   "execution_count": 4,
   "id": "d164d265",
   "metadata": {},
   "outputs": [
    {
     "name": "stdout",
     "output_type": "stream",
     "text": [
      "order is a--z\t b--x\t c--y\n",
      "122\n"
     ]
    }
   ],
   "source": [
    "for i in range(ord('x'),ord(\"z\") + 1):\n",
    "    for j in range(ord(\"x\"), ord(\"z\") + 1):\n",
    "        if i != j:\n",
    "            for k in range(ord(\"x\"), ord(\"z\") + 1):\n",
    "                if (i != k) and (j != k):\n",
    "                    if (i != ord(\"x\")) and (k != ord(\"x\")) and (k != ord(\"z\")):\n",
    "                        print(\"order is a--%s\\t b--%s\\t c--%s\" % (chr(i), chr(j), chr(k)))\n",
    "print(ord(\"z\"))"
   ]
  },
  {
   "cell_type": "markdown",
   "id": "a4ba0978",
   "metadata": {},
   "source": [
    "### 23.打印\n"
   ]
  },
  {
   "cell_type": "code",
   "execution_count": 10,
   "id": "526b9e7b",
   "metadata": {},
   "outputs": [
    {
     "name": "stdout",
     "output_type": "stream",
     "text": [
      "   *\n",
      "\n",
      "  ***\n",
      "\n",
      " *****\n",
      "\n",
      "*******\n",
      "\n",
      " *****\n",
      "\n",
      "  ***\n",
      "\n",
      "   *\n",
      "\n"
     ]
    }
   ],
   "source": [
    "from sys import stdout\n",
    "for i in range(4):\n",
    "    for j in range(3-i):\n",
    "        stdout.write(\" \")\n",
    "    for k in range(i*2+1):\n",
    "        stdout.write(\"*\")\n",
    "    print(\"\\n\")\n",
    "for i in range(3):\n",
    "    for j in range(i+1):\n",
    "        stdout.write(\" \")\n",
    "    for k in range(5-2*i):\n",
    "        stdout.write(\"*\")\n",
    "    print(\"\\n\")"
   ]
  },
  {
   "cell_type": "markdown",
   "id": "be819e33",
   "metadata": {},
   "source": [
    "### 24.有一分数序列:2/1, 3/2, 5/3, 8/5, 13/8……\n",
    "reduce()将参数序列中所有元素累加\n",
    "语法：\n",
    "reduce(function, iterrable[,initializer])"
   ]
  },
  {
   "cell_type": "code",
   "execution_count": 14,
   "id": "15280cee",
   "metadata": {},
   "outputs": [
    {
     "name": "stdout",
     "output_type": "stream",
     "text": [
      "32.66026079864164\n"
     ]
    }
   ],
   "source": [
    "x1 = 1.0\n",
    "x2 = 2.0\n",
    "sum = 0.0\n",
    "for i in range(1, 21):\n",
    "    sum += x2 / x1\n",
    "    t = x1\n",
    "    x1 = x2\n",
    "    x2 = t + x2\n",
    "print(sum)\n",
    "    "
   ]
  },
  {
   "cell_type": "code",
   "execution_count": 16,
   "id": "bafa9375",
   "metadata": {},
   "outputs": [
    {
     "name": "stdout",
     "output_type": "stream",
     "text": [
      "15\n"
     ]
    }
   ],
   "source": [
    "from functools import reduce\n",
    "sum = reduce(lambda x, y :x + y, [1, 2, 3, 4, 5])\n",
    "print(sum)"
   ]
  },
  {
   "cell_type": "markdown",
   "id": "31208ed5",
   "metadata": {},
   "source": [
    "### 25.求1 +2！+3！+……+20！\n"
   ]
  },
  {
   "cell_type": "code",
   "execution_count": 20,
   "id": "4950f539",
   "metadata": {},
   "outputs": [
    {
     "name": "stdout",
     "output_type": "stream",
     "text": [
      "1+2!+3!+……+20!=2561327494111820313\n"
     ]
    }
   ],
   "source": [
    "import math\n",
    "sum = 0\n",
    "for i in range(1, 21):\n",
    "    sum += math.factorial(i)\n",
    "print(\"1+2!+3!+……+20!=%d\" % sum)"
   ]
  },
  {
   "cell_type": "markdown",
   "id": "5a1e92ba",
   "metadata": {},
   "source": [
    "### 26.利用递归求5！"
   ]
  },
  {
   "cell_type": "code",
   "execution_count": 21,
   "id": "0bce6bd9",
   "metadata": {},
   "outputs": [
    {
     "data": {
      "text/plain": [
       "120"
      ]
     },
     "execution_count": 21,
     "metadata": {},
     "output_type": "execute_result"
    }
   ],
   "source": [
    "def fac(n):\n",
    "    if n == 1:\n",
    "        return 1\n",
    "    else:\n",
    "        return n * fac(n-1)\n",
    "fac(5)"
   ]
  },
  {
   "cell_type": "markdown",
   "id": "f29084d6",
   "metadata": {},
   "source": [
    "### 27.利用递归函数调用方式，将输入的5个字符，以相反顺序打印出来"
   ]
  },
  {
   "cell_type": "code",
   "execution_count": 24,
   "id": "50588edc",
   "metadata": {},
   "outputs": [
    {
     "name": "stdout",
     "output_type": "stream",
     "text": [
      "input a stringtfboys\n",
      "s\n",
      "y\n",
      "o\n",
      "b\n",
      "f\n",
      "t\n"
     ]
    }
   ],
   "source": [
    "def output(s, l):\n",
    "    if l == 0:\n",
    "        return \n",
    "    else:\n",
    "        print(s[l-1])\n",
    "        output(s, l-1)\n",
    "s = input(\"input a string\")\n",
    "l = len(s)\n",
    "output(s, l)"
   ]
  },
  {
   "cell_type": "markdown",
   "id": "e480f737",
   "metadata": {},
   "source": [
    "### 28.有5个人坐一起，问第五个人多少岁。第五个比第四个大2岁以此类推"
   ]
  },
  {
   "cell_type": "code",
   "execution_count": 2,
   "id": "beb0f8e5",
   "metadata": {},
   "outputs": [
    {
     "data": {
      "text/plain": [
       "18"
      ]
     },
     "execution_count": 2,
     "metadata": {},
     "output_type": "execute_result"
    }
   ],
   "source": [
    "def age(n):\n",
    "    if n == 1:\n",
    "        return 10\n",
    "    else:\n",
    "        return age(n-1) + 2\n",
    "    \n",
    "age(5)"
   ]
  },
  {
   "cell_type": "markdown",
   "id": "fcfc1591",
   "metadata": {},
   "source": [
    "### 29.给一个不多于5位的正整数，要求1，求它是几位数2，逆序打印出个数字"
   ]
  },
  {
   "cell_type": "code",
   "execution_count": 2,
   "id": "40c5bbf4",
   "metadata": {},
   "outputs": [
    {
     "name": "stdout",
     "output_type": "stream",
     "text": [
      "请输入一个数:\n",
      "67543\n",
      "5位数： 3 4 5 7 6\n",
      "4位数： 3 4 5 7\n",
      "3位数： 3 4 5\n",
      "2位数： 3 4\n",
      "1位数： 3\n"
     ]
    }
   ],
   "source": [
    "x = int(input(\"请输入一个数:\\n\"))\n",
    "a = x // 10000\n",
    "b = x % 10000 // 1000\n",
    "c = x % 1000 // 100\n",
    "d = x % 100 // 10\n",
    "e = x % 10\n",
    "\n",
    "if a != 0:\n",
    "    print(\"5位数：\", e, d, c, b, a)\n",
    "if b != 0:\n",
    "    print(\"4位数：\", e, d, c, b)\n",
    "if c != 0:\n",
    "    print(\"3位数：\", e, d, c)\n",
    "if d != 0:\n",
    "    print(\"2位数：\", e, d)\n",
    "if e != 0:\n",
    "    print(\"1位数：\", e)"
   ]
  },
  {
   "cell_type": "markdown",
   "id": "e7289c7d",
   "metadata": {},
   "source": [
    "### 30.判断一个5位数是不是回文数"
   ]
  },
  {
   "cell_type": "code",
   "execution_count": 5,
   "id": "14359f72",
   "metadata": {},
   "outputs": [
    {
     "name": "stdout",
     "output_type": "stream",
     "text": [
      "请输入一个5位数:\n",
      "12321\n",
      "12321是一个回文数\n"
     ]
    }
   ],
   "source": [
    "a = int(input(\"请输入一个5位数:\\n\"))\n",
    "x = str(a)\n",
    "flag = True\n",
    "    \n",
    "for j in range(len(x) // 2):\n",
    "    if x[j] != x[-j - 1]:\n",
    "        flag = False\n",
    "        break\n",
    "if flag:\n",
    "    print(\"%d是一个回文数\" % a)\n",
    "else:\n",
    "    print(\"%d不是一个回文数\" % a)"
   ]
  },
  {
   "cell_type": "code",
   "execution_count": 3,
   "id": "1a386ae5",
   "metadata": {},
   "outputs": [
    {
     "name": "stdout",
     "output_type": "stream",
     "text": [
      "  *   *\n",
      "\n",
      " *** ***\n",
      "\n",
      "*********\n",
      "\n",
      " *******\n",
      "\n",
      "  *****\n",
      "\n",
      "   ***\n",
      "\n",
      "    *\n",
      "\n"
     ]
    }
   ],
   "source": [
    "from sys import stdout\n",
    "for i in range(1):\n",
    "    for j in range(i+2):\n",
    "        stdout.write(\" \")\n",
    "    for k in range(i+1):\n",
    "        stdout.write(\"*\")\n",
    "    for m in range(i+3):\n",
    "        stdout.write(\" \")\n",
    "    for n in range(i+1):\n",
    "        stdout.write(\"*\")\n",
    "print(\"\\n\")\n",
    "for i in range(1):\n",
    "    for j in range(i+1):\n",
    "        stdout.write(\" \")\n",
    "    for k in range(i+3):\n",
    "        stdout.write(\"*\")\n",
    "    for m in range(i+1):\n",
    "        stdout.write(\" \")\n",
    "    for n in range(i+3):\n",
    "        stdout.write(\"*\")\n",
    "print(\"\\n\")        \n",
    "for i in range(5):\n",
    "    for j in range(i):\n",
    "        stdout.write(\" \")\n",
    "    for k in range(9-2*i):\n",
    "        stdout.write(\"*\")\n",
    "    print(\"\\n\")"
   ]
  },
  {
   "cell_type": "markdown",
   "id": "88c11357",
   "metadata": {},
   "source": [
    "### 32.按相反顺序输出列表的值\n",
    "list的[]中有三个参数，用冒号分割list[param1:param2:param3]param1为start_index,param2_index为end_index,param3为\n",
    "步长，默认为1，步长为-1时，返回倒序原序列"
   ]
  },
  {
   "cell_type": "code",
   "execution_count": 4,
   "id": "bdf9d876",
   "metadata": {},
   "outputs": [
    {
     "name": "stdout",
     "output_type": "stream",
     "text": [
      "three\n",
      "two\n",
      "one\n"
     ]
    }
   ],
   "source": [
    "a = ['one', 'two', 'three']\n",
    "for i in a[::-1]:\n",
    "    print(i)"
   ]
  },
  {
   "cell_type": "markdown",
   "id": "2017b3db",
   "metadata": {},
   "source": [
    "### 33.按逗号分隔列表\n",
    "python join()方法用于将序列中的元素以指定的字符连接成一个新的字符串\n",
    "语法：\n",
    "str.join(sequence)\n",
    "例：\n",
    "\n",
    "str = '-'\n",
    "\n",
    "seq = (\"a\", \"b\", \"c\")\n",
    "\n",
    "print(str.join(seq))\n",
    "\n",
    "a-b-c\n",
    "\n",
    "s1 = (str(n) for n in l)生成了一个迭代器对象"
   ]
  },
  {
   "cell_type": "code",
   "execution_count": 7,
   "id": "a6699146",
   "metadata": {},
   "outputs": [
    {
     "name": "stdout",
     "output_type": "stream",
     "text": [
      "1,2,3,4,5\n"
     ]
    }
   ],
   "source": [
    "l = [1, 2, 3, 4, 5]\n",
    "s1 = ','.join(str(n) for n in l)\n",
    "print(s1)"
   ]
  },
  {
   "cell_type": "markdown",
   "id": "cf18e48e",
   "metadata": {},
   "source": [
    "### 34.练习函数调用，使用函数，输出三次runoob"
   ]
  },
  {
   "cell_type": "code",
   "execution_count": 11,
   "id": "eb3d22aa",
   "metadata": {},
   "outputs": [
    {
     "name": "stdout",
     "output_type": "stream",
     "text": [
      "runoob\n",
      "runoob\n",
      "runoob\n"
     ]
    }
   ],
   "source": [
    "def hello_runoob():\n",
    "    print(\"runoob\")\n",
    "\n",
    "def hello_runoobs():\n",
    "    for i in range(3):\n",
    "        hello_runoob()\n",
    "\n",
    "if __name__ == \"__main__\":\n",
    "    hello_runoobs()"
   ]
  },
  {
   "cell_type": "markdown",
   "id": "eb109a26",
   "metadata": {},
   "source": [
    "\n",
    "终端的字符颜色是用转义序列控制的，转义序列是以ESC开头，即用\\033来完成\n",
    "书写格式：\\033[显示方式；前景色；背景色m[0m]"
   ]
  },
  {
   "cell_type": "markdown",
   "id": "d9fbf634",
   "metadata": {},
   "source": [
    "### 36.求100以内素数\n",
    "如果for循环正常结束，则执行else下的语句，如果循环中遇到break推出了则不会执行else下的语句"
   ]
  },
  {
   "cell_type": "code",
   "execution_count": 28,
   "id": "565f7373",
   "metadata": {},
   "outputs": [
    {
     "name": "stdout",
     "output_type": "stream",
     "text": [
      "2\n",
      "3\n",
      "5\n",
      "7\n",
      "11\n",
      "13\n",
      "17\n",
      "19\n",
      "23\n",
      "29\n",
      "31\n",
      "37\n",
      "41\n",
      "43\n",
      "47\n",
      "53\n",
      "59\n",
      "61\n",
      "67\n",
      "71\n",
      "73\n",
      "79\n",
      "83\n",
      "89\n",
      "97\n"
     ]
    }
   ],
   "source": [
    "for i in range(2, 100):\n",
    "    for j in range(2, i):\n",
    "        if i % j == 0:\n",
    "            break\n",
    "    else:\n",
    "        print(i)\n",
    "  "
   ]
  },
  {
   "cell_type": "code",
   "execution_count": 1,
   "id": "3861d474",
   "metadata": {},
   "outputs": [
    {
     "name": "stdout",
     "output_type": "stream",
     "text": [
      "0\n",
      "1\n",
      "2\n",
      "3\n",
      "4\n",
      "hello\n"
     ]
    }
   ],
   "source": [
    "import numpy as np\n",
    "for i in np.arange(5):\n",
    "    print (i)\n",
    "else:\n",
    "    print(\"hello\")"
   ]
  },
  {
   "cell_type": "code",
   "execution_count": 2,
   "id": "a7f449a8",
   "metadata": {},
   "outputs": [
    {
     "name": "stdout",
     "output_type": "stream",
     "text": [
      "0\n",
      "1\n",
      "2\n",
      "3\n"
     ]
    }
   ],
   "source": [
    "import numpy as np\n",
    "for i in np.arange(5):\n",
    "    print (i)\n",
    "    if i == 3:\n",
    "        break\n",
    "else:\n",
    "    print(\"hello\")"
   ]
  },
  {
   "cell_type": "markdown",
   "id": "f3f1100a",
   "metadata": {},
   "source": [
    "### 37.对10个数进行排序"
   ]
  },
  {
   "cell_type": "code",
   "execution_count": 7,
   "id": "43d4cc7c",
   "metadata": {},
   "outputs": [
    {
     "name": "stdout",
     "output_type": "stream",
     "text": [
      "请输入一个数字34\n",
      "请输入一个数字23\n",
      "请输入一个数字12\n",
      "请输入一个数字67\n",
      "请输入一个数字56\n",
      "[12, 23, 34, 56, 67]\n"
     ]
    }
   ],
   "source": [
    "l = []\n",
    "for i in range(5):\n",
    "    l.append(int(input(\"请输入一个数字\")))\n",
    "l = sorted(l)\n",
    "l.sort()\n",
    "print(l)\n"
   ]
  },
  {
   "cell_type": "markdown",
   "id": "49705d9b",
   "metadata": {},
   "source": [
    "### 38.求一个3*3矩阵对角线元素之和"
   ]
  },
  {
   "cell_type": "code",
   "execution_count": 9,
   "id": "2d75b5a0",
   "metadata": {
    "scrolled": true
   },
   "outputs": [
    {
     "name": "stdout",
     "output_type": "stream",
     "text": [
      "inpue num:\n",
      "1\n",
      "inpue num:\n",
      "2\n",
      "inpue num:\n",
      "3\n",
      "inpue num:\n",
      "4\n",
      "inpue num:\n",
      "5\n",
      "inpue num:\n",
      "6\n",
      "inpue num:\n",
      "7\n",
      "inpue num:\n",
      "8\n",
      "inpue num:\n",
      "9\n",
      "15.0\n"
     ]
    }
   ],
   "source": [
    "l = []\n",
    "sum = 0.0\n",
    "for i in range(3):\n",
    "    l.append([])\n",
    "    for j in range(3):\n",
    "        l[i].append(float(input(\"inpue num:\\n\")))\n",
    "for i in range(3):\n",
    "    sum += l[i][i]\n",
    "print(sum)"
   ]
  },
  {
   "cell_type": "markdown",
   "id": "460b56a9",
   "metadata": {},
   "source": [
    "### 39.有一个已经排好的序的数组，现输入一个数，要求按照原来的规律将它插入数组中"
   ]
  },
  {
   "cell_type": "code",
   "execution_count": 18,
   "id": "da50da70",
   "metadata": {},
   "outputs": [
    {
     "name": "stdout",
     "output_type": "stream",
     "text": [
      "1\n",
      "3\n",
      "5\n",
      "7\n",
      "9\n",
      "11\n",
      "13\n",
      "15\n",
      "17\n",
      "19\n",
      "0\n",
      "input a number8\n",
      "排序后列表\n",
      "1\n",
      "3\n",
      "5\n",
      "7\n",
      "8\n",
      "9\n",
      "11\n",
      "13\n",
      "15\n",
      "17\n",
      "19\n"
     ]
    }
   ],
   "source": [
    "a = [1, 3, 5, 7, 9, 11, 13, 15, 17, 19, 0]\n",
    "#0作为加入数字的占位符\n",
    "for i in range(len(a)):\n",
    "    print(a[i])\n",
    "end = a[9]\n",
    "number = int(input(\"input a number\"))\n",
    "if end < number:\n",
    "    a[10] = number\n",
    "else:\n",
    "    for i in range(10):\n",
    "        if number < a[i]:\n",
    "            temp1 = a[i]\n",
    "            a[i] = number\n",
    "            for j in range(i+1, 11):\n",
    "                temp2 = a[j]\n",
    "                a[j] = temp1\n",
    "                temp1 = temp2\n",
    "            break\n",
    "print(\"排序后列表\")\n",
    "for i in range(len(a)):\n",
    "    print(a[i])"
   ]
  },
  {
   "cell_type": "markdown",
   "id": "96e5f14a",
   "metadata": {},
   "source": [
    "### 40.将一个数组逆序输出"
   ]
  },
  {
   "cell_type": "code",
   "execution_count": 19,
   "id": "13ac0eb6",
   "metadata": {},
   "outputs": [
    {
     "name": "stdout",
     "output_type": "stream",
     "text": [
      "[6, 7, 8, 9]\n"
     ]
    }
   ],
   "source": [
    "a = [9, 8, 7, 6]\n",
    "a.sort()\n",
    "print(a)"
   ]
  },
  {
   "cell_type": "code",
   "execution_count": null,
   "id": "28586cfa",
   "metadata": {},
   "outputs": [],
   "source": []
  }
 ],
 "metadata": {
  "kernelspec": {
   "display_name": "Python 3",
   "language": "python",
   "name": "python3"
  },
  "language_info": {
   "codemirror_mode": {
    "name": "ipython",
    "version": 3
   },
   "file_extension": ".py",
   "mimetype": "text/x-python",
   "name": "python",
   "nbconvert_exporter": "python",
   "pygments_lexer": "ipython3",
   "version": "3.8.8"
  }
 },
 "nbformat": 4,
 "nbformat_minor": 5
}
